{
 "cells": [
  {
   "cell_type": "code",
   "execution_count": 11,
   "metadata": {},
   "outputs": [],
   "source": [
    "import numpy as np\n",
    "import pandas as pd\n",
    "import pandas_datareader as web\n",
    "from datetime import date"
   ]
  },
  {
   "cell_type": "code",
   "execution_count": 19,
   "metadata": {},
   "outputs": [
    {
     "name": "stdout",
     "output_type": "stream",
     "text": [
      "<class 'pandas.core.frame.DataFrame'>\n",
      "DatetimeIndex: 5057 entries, 2000-01-03 to 2020-02-07\n",
      "Data columns (total 6 columns):\n",
      "High         5057 non-null float64\n",
      "Low          5057 non-null float64\n",
      "Open         5057 non-null float64\n",
      "Close        5057 non-null float64\n",
      "Volume       5057 non-null float64\n",
      "Adj Close    5057 non-null float64\n",
      "dtypes: float64(6)\n",
      "memory usage: 276.6 KB\n"
     ]
    }
   ],
   "source": [
    "today = date.today()\n",
    "data = web.DataReader('SPY', data_source = 'yahoo', start = '1/1/2000', end = today)\n",
    "data.info()"
   ]
  },
  {
   "cell_type": "code",
   "execution_count": 20,
   "metadata": {},
   "outputs": [],
   "source": [
    "#data = data.reset_index()\n",
    "#data.head()"
   ]
  },
  {
   "cell_type": "code",
   "execution_count": 21,
   "metadata": {},
   "outputs": [],
   "source": [
    "import sqlite3 as sq\n",
    "data = data\n",
    "sql_data = r'C:\\Users\\Nick\\Desktop\\ticker.db' #- Creates DB names SQLite"
   ]
  },
  {
   "cell_type": "code",
   "execution_count": 22,
   "metadata": {},
   "outputs": [],
   "source": [
    "conn = sq.connect('ticker.db')\n",
    "c = conn.cursor()"
   ]
  },
  {
   "cell_type": "code",
   "execution_count": 23,
   "metadata": {},
   "outputs": [
    {
     "ename": "OperationalError",
     "evalue": "table SPY already exists",
     "output_type": "error",
     "traceback": [
      "\u001b[1;31m---------------------------------------------------------------------------\u001b[0m",
      "\u001b[1;31mOperationalError\u001b[0m                          Traceback (most recent call last)",
      "\u001b[1;32m<ipython-input-23-11b9733ded7c>\u001b[0m in \u001b[0;36m<module>\u001b[1;34m\u001b[0m\n\u001b[1;32m----> 1\u001b[1;33m \u001b[0mc\u001b[0m\u001b[1;33m.\u001b[0m\u001b[0mexecute\u001b[0m\u001b[1;33m(\u001b[0m\u001b[1;34m'CREATE TABLE SPY (Date, High, Low, Open, Close, Volume, Adj Close)'\u001b[0m\u001b[1;33m)\u001b[0m\u001b[1;33m\u001b[0m\u001b[1;33m\u001b[0m\u001b[0m\n\u001b[0m\u001b[0;32m      2\u001b[0m \u001b[0mconn\u001b[0m\u001b[1;33m.\u001b[0m\u001b[0mcommit\u001b[0m\u001b[1;33m(\u001b[0m\u001b[1;33m)\u001b[0m\u001b[1;33m\u001b[0m\u001b[1;33m\u001b[0m\u001b[0m\n",
      "\u001b[1;31mOperationalError\u001b[0m: table SPY already exists"
     ]
    }
   ],
   "source": [
    "#cur.execute('DROP TABLE IF EXISTS ticker ') #DO NOT RUN.  THIS WILL DELETE EXISTING DATA\n",
    "c.execute('CREATE TABLE SPY (Date, High, Low, Open, Close, Volume, Adj Close)')\n",
    "conn.commit()"
   ]
  },
  {
   "cell_type": "code",
   "execution_count": 24,
   "metadata": {},
   "outputs": [],
   "source": [
    "data.to_sql('SPY', conn, if_exists='replace', index = True)"
   ]
  },
  {
   "cell_type": "code",
   "execution_count": 25,
   "metadata": {},
   "outputs": [
    {
     "data": {
      "text/html": [
       "<div>\n",
       "<style scoped>\n",
       "    .dataframe tbody tr th:only-of-type {\n",
       "        vertical-align: middle;\n",
       "    }\n",
       "\n",
       "    .dataframe tbody tr th {\n",
       "        vertical-align: top;\n",
       "    }\n",
       "\n",
       "    .dataframe thead th {\n",
       "        text-align: right;\n",
       "    }\n",
       "</style>\n",
       "<table border=\"1\" class=\"dataframe\">\n",
       "  <thead>\n",
       "    <tr style=\"text-align: right;\">\n",
       "      <th></th>\n",
       "      <th>Date</th>\n",
       "      <th>High</th>\n",
       "      <th>Low</th>\n",
       "      <th>Open</th>\n",
       "      <th>Close</th>\n",
       "      <th>Volume</th>\n",
       "      <th>Adj Close</th>\n",
       "    </tr>\n",
       "  </thead>\n",
       "  <tbody>\n",
       "    <tr>\n",
       "      <td>0</td>\n",
       "      <td>2000-01-03 00:00:00</td>\n",
       "      <td>148.25000</td>\n",
       "      <td>143.875000</td>\n",
       "      <td>148.25000</td>\n",
       "      <td>145.4375</td>\n",
       "      <td>8164300.0</td>\n",
       "      <td>99.978989</td>\n",
       "    </tr>\n",
       "    <tr>\n",
       "      <td>1</td>\n",
       "      <td>2000-01-04 00:00:00</td>\n",
       "      <td>144.06250</td>\n",
       "      <td>139.640625</td>\n",
       "      <td>143.53125</td>\n",
       "      <td>139.7500</td>\n",
       "      <td>8089800.0</td>\n",
       "      <td>96.069160</td>\n",
       "    </tr>\n",
       "    <tr>\n",
       "      <td>2</td>\n",
       "      <td>2000-01-05 00:00:00</td>\n",
       "      <td>141.53125</td>\n",
       "      <td>137.250000</td>\n",
       "      <td>139.93750</td>\n",
       "      <td>140.0000</td>\n",
       "      <td>12177900.0</td>\n",
       "      <td>96.241058</td>\n",
       "    </tr>\n",
       "    <tr>\n",
       "      <td>3</td>\n",
       "      <td>2000-01-06 00:00:00</td>\n",
       "      <td>141.50000</td>\n",
       "      <td>137.750000</td>\n",
       "      <td>139.62500</td>\n",
       "      <td>137.7500</td>\n",
       "      <td>6227200.0</td>\n",
       "      <td>94.694298</td>\n",
       "    </tr>\n",
       "    <tr>\n",
       "      <td>4</td>\n",
       "      <td>2000-01-07 00:00:00</td>\n",
       "      <td>145.75000</td>\n",
       "      <td>140.062500</td>\n",
       "      <td>140.31250</td>\n",
       "      <td>145.7500</td>\n",
       "      <td>8066500.0</td>\n",
       "      <td>100.193771</td>\n",
       "    </tr>\n",
       "  </tbody>\n",
       "</table>\n",
       "</div>"
      ],
      "text/plain": [
       "                  Date       High         Low       Open     Close  \\\n",
       "0  2000-01-03 00:00:00  148.25000  143.875000  148.25000  145.4375   \n",
       "1  2000-01-04 00:00:00  144.06250  139.640625  143.53125  139.7500   \n",
       "2  2000-01-05 00:00:00  141.53125  137.250000  139.93750  140.0000   \n",
       "3  2000-01-06 00:00:00  141.50000  137.750000  139.62500  137.7500   \n",
       "4  2000-01-07 00:00:00  145.75000  140.062500  140.31250  145.7500   \n",
       "\n",
       "       Volume   Adj Close  \n",
       "0   8164300.0   99.978989  \n",
       "1   8089800.0   96.069160  \n",
       "2  12177900.0   96.241058  \n",
       "3   6227200.0   94.694298  \n",
       "4   8066500.0  100.193771  "
      ]
     },
     "execution_count": 25,
     "metadata": {},
     "output_type": "execute_result"
    }
   ],
   "source": [
    "c.execute('''SELECT * FROM SPY''')\n",
    "\n",
    "#for row in c.fetchall():\n",
    "#    print (row)\n",
    "\n",
    "pd.read_sql('select * from SPY limit 5;', conn)"
   ]
  },
  {
   "cell_type": "code",
   "execution_count": 26,
   "metadata": {},
   "outputs": [
    {
     "data": {
      "text/html": [
       "<div>\n",
       "<style scoped>\n",
       "    .dataframe tbody tr th:only-of-type {\n",
       "        vertical-align: middle;\n",
       "    }\n",
       "\n",
       "    .dataframe tbody tr th {\n",
       "        vertical-align: top;\n",
       "    }\n",
       "\n",
       "    .dataframe thead th {\n",
       "        text-align: right;\n",
       "    }\n",
       "</style>\n",
       "<table border=\"1\" class=\"dataframe\">\n",
       "  <thead>\n",
       "    <tr style=\"text-align: right;\">\n",
       "      <th></th>\n",
       "      <th>Date</th>\n",
       "      <th>High</th>\n",
       "      <th>Low</th>\n",
       "      <th>Open</th>\n",
       "      <th>Close</th>\n",
       "      <th>Volume</th>\n",
       "      <th>Adj Close</th>\n",
       "    </tr>\n",
       "  </thead>\n",
       "  <tbody>\n",
       "    <tr>\n",
       "      <td>0</td>\n",
       "      <td>2000-01-03 00:00:00</td>\n",
       "      <td>148.250000</td>\n",
       "      <td>143.875000</td>\n",
       "      <td>148.250000</td>\n",
       "      <td>145.437500</td>\n",
       "      <td>8164300.0</td>\n",
       "      <td>99.978989</td>\n",
       "    </tr>\n",
       "    <tr>\n",
       "      <td>1</td>\n",
       "      <td>2000-01-04 00:00:00</td>\n",
       "      <td>144.062500</td>\n",
       "      <td>139.640625</td>\n",
       "      <td>143.531250</td>\n",
       "      <td>139.750000</td>\n",
       "      <td>8089800.0</td>\n",
       "      <td>96.069160</td>\n",
       "    </tr>\n",
       "    <tr>\n",
       "      <td>2</td>\n",
       "      <td>2000-01-05 00:00:00</td>\n",
       "      <td>141.531250</td>\n",
       "      <td>137.250000</td>\n",
       "      <td>139.937500</td>\n",
       "      <td>140.000000</td>\n",
       "      <td>12177900.0</td>\n",
       "      <td>96.241058</td>\n",
       "    </tr>\n",
       "    <tr>\n",
       "      <td>3</td>\n",
       "      <td>2000-01-06 00:00:00</td>\n",
       "      <td>141.500000</td>\n",
       "      <td>137.750000</td>\n",
       "      <td>139.625000</td>\n",
       "      <td>137.750000</td>\n",
       "      <td>6227200.0</td>\n",
       "      <td>94.694298</td>\n",
       "    </tr>\n",
       "    <tr>\n",
       "      <td>4</td>\n",
       "      <td>2000-01-07 00:00:00</td>\n",
       "      <td>145.750000</td>\n",
       "      <td>140.062500</td>\n",
       "      <td>140.312500</td>\n",
       "      <td>145.750000</td>\n",
       "      <td>8066500.0</td>\n",
       "      <td>100.193771</td>\n",
       "    </tr>\n",
       "    <tr>\n",
       "      <td>...</td>\n",
       "      <td>...</td>\n",
       "      <td>...</td>\n",
       "      <td>...</td>\n",
       "      <td>...</td>\n",
       "      <td>...</td>\n",
       "      <td>...</td>\n",
       "      <td>...</td>\n",
       "    </tr>\n",
       "    <tr>\n",
       "      <td>5052</td>\n",
       "      <td>2020-02-03 00:00:00</td>\n",
       "      <td>326.160004</td>\n",
       "      <td>323.220001</td>\n",
       "      <td>323.350006</td>\n",
       "      <td>324.119995</td>\n",
       "      <td>69242300.0</td>\n",
       "      <td>324.119995</td>\n",
       "    </tr>\n",
       "    <tr>\n",
       "      <td>5053</td>\n",
       "      <td>2020-02-04 00:00:00</td>\n",
       "      <td>330.010010</td>\n",
       "      <td>327.720001</td>\n",
       "      <td>328.070007</td>\n",
       "      <td>329.059998</td>\n",
       "      <td>62573200.0</td>\n",
       "      <td>329.059998</td>\n",
       "    </tr>\n",
       "    <tr>\n",
       "      <td>5054</td>\n",
       "      <td>2020-02-05 00:00:00</td>\n",
       "      <td>333.089996</td>\n",
       "      <td>330.670013</td>\n",
       "      <td>332.269989</td>\n",
       "      <td>332.859985</td>\n",
       "      <td>65951100.0</td>\n",
       "      <td>332.859985</td>\n",
       "    </tr>\n",
       "    <tr>\n",
       "      <td>5055</td>\n",
       "      <td>2020-02-06 00:00:00</td>\n",
       "      <td>334.190002</td>\n",
       "      <td>332.799988</td>\n",
       "      <td>333.910004</td>\n",
       "      <td>333.980011</td>\n",
       "      <td>50359700.0</td>\n",
       "      <td>333.980011</td>\n",
       "    </tr>\n",
       "    <tr>\n",
       "      <td>5056</td>\n",
       "      <td>2020-02-07 00:00:00</td>\n",
       "      <td>333.989990</td>\n",
       "      <td>331.600006</td>\n",
       "      <td>332.820007</td>\n",
       "      <td>332.200012</td>\n",
       "      <td>64088400.0</td>\n",
       "      <td>332.200012</td>\n",
       "    </tr>\n",
       "  </tbody>\n",
       "</table>\n",
       "<p>5057 rows × 7 columns</p>\n",
       "</div>"
      ],
      "text/plain": [
       "                     Date        High         Low        Open       Close  \\\n",
       "0     2000-01-03 00:00:00  148.250000  143.875000  148.250000  145.437500   \n",
       "1     2000-01-04 00:00:00  144.062500  139.640625  143.531250  139.750000   \n",
       "2     2000-01-05 00:00:00  141.531250  137.250000  139.937500  140.000000   \n",
       "3     2000-01-06 00:00:00  141.500000  137.750000  139.625000  137.750000   \n",
       "4     2000-01-07 00:00:00  145.750000  140.062500  140.312500  145.750000   \n",
       "...                   ...         ...         ...         ...         ...   \n",
       "5052  2020-02-03 00:00:00  326.160004  323.220001  323.350006  324.119995   \n",
       "5053  2020-02-04 00:00:00  330.010010  327.720001  328.070007  329.059998   \n",
       "5054  2020-02-05 00:00:00  333.089996  330.670013  332.269989  332.859985   \n",
       "5055  2020-02-06 00:00:00  334.190002  332.799988  333.910004  333.980011   \n",
       "5056  2020-02-07 00:00:00  333.989990  331.600006  332.820007  332.200012   \n",
       "\n",
       "          Volume   Adj Close  \n",
       "0      8164300.0   99.978989  \n",
       "1      8089800.0   96.069160  \n",
       "2     12177900.0   96.241058  \n",
       "3      6227200.0   94.694298  \n",
       "4      8066500.0  100.193771  \n",
       "...          ...         ...  \n",
       "5052  69242300.0  324.119995  \n",
       "5053  62573200.0  329.059998  \n",
       "5054  65951100.0  332.859985  \n",
       "5055  50359700.0  333.980011  \n",
       "5056  64088400.0  332.200012  \n",
       "\n",
       "[5057 rows x 7 columns]"
      ]
     },
     "execution_count": 26,
     "metadata": {},
     "output_type": "execute_result"
    }
   ],
   "source": [
    "c.execute('''SELECT * FROM SPY''')\n",
    "df = pd.DataFrame(c.fetchall(), columns= ['Date','High', 'Low', 'Open', 'Close', 'Volume', 'Adj Close'])    \n",
    "df"
   ]
  },
  {
   "cell_type": "code",
   "execution_count": 27,
   "metadata": {},
   "outputs": [],
   "source": [
    "conn.commit()\n",
    "conn.close()"
   ]
  },
  {
   "cell_type": "code",
   "execution_count": 33,
   "metadata": {},
   "outputs": [
    {
     "name": "stdout",
     "output_type": "stream",
     "text": [
      "[('GSPC',), ('SPY',)]\n"
     ]
    }
   ],
   "source": [
    "con = sq.connect('ticker.db')\n",
    " \n",
    "def sql_fetch(con):\n",
    " \n",
    "    cursorObj = con.cursor()\n",
    " \n",
    "    cursorObj.execute('SELECT name from sqlite_master where type= \"table\"')\n",
    " \n",
    "    print(cursorObj.fetchall())\n",
    " \n",
    "sql_fetch(con)"
   ]
  },
  {
   "cell_type": "code",
   "execution_count": 34,
   "metadata": {},
   "outputs": [],
   "source": [
    "con = sq.connect('ticker.db')\n",
    "conn.close()"
   ]
  },
  {
   "cell_type": "code",
   "execution_count": null,
   "metadata": {},
   "outputs": [],
   "source": []
  }
 ],
 "metadata": {
  "kernelspec": {
   "display_name": "Python 3",
   "language": "python",
   "name": "python3"
  },
  "language_info": {
   "codemirror_mode": {
    "name": "ipython",
    "version": 3
   },
   "file_extension": ".py",
   "mimetype": "text/x-python",
   "name": "python",
   "nbconvert_exporter": "python",
   "pygments_lexer": "ipython3",
   "version": "3.6.9"
  },
  "varInspector": {
   "cols": {
    "lenName": 16,
    "lenType": 16,
    "lenVar": 40
   },
   "kernels_config": {
    "python": {
     "delete_cmd_postfix": "",
     "delete_cmd_prefix": "del ",
     "library": "var_list.py",
     "varRefreshCmd": "print(var_dic_list())"
    },
    "r": {
     "delete_cmd_postfix": ") ",
     "delete_cmd_prefix": "rm(",
     "library": "var_list.r",
     "varRefreshCmd": "cat(var_dic_list()) "
    }
   },
   "oldHeight": 211,
   "position": {
    "height": "40px",
    "left": "834px",
    "right": "20px",
    "top": "25px",
    "width": "420px"
   },
   "types_to_exclude": [
    "module",
    "function",
    "builtin_function_or_method",
    "instance",
    "_Feature"
   ],
   "varInspector_section_display": "none",
   "window_display": true
  }
 },
 "nbformat": 4,
 "nbformat_minor": 2
}
